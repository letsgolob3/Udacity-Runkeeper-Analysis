{
 "cells": [
  {
   "cell_type": "markdown",
   "metadata": {},
   "source": [
    "# Runkeeper cardio activities analysis"
   ]
  },
  {
   "cell_type": "code",
   "execution_count": 10,
   "metadata": {},
   "outputs": [
    {
     "data": {
      "text/plain": [
       "'C:\\\\Users\\\\E082499\\\\Documents\\\\Udacity Data Scientist Nanodegree\\\\Project 1 Blog post\\\\Project1'"
      ]
     },
     "execution_count": 10,
     "metadata": {},
     "output_type": "execute_result"
    }
   ],
   "source": [
    "#Import packages\n",
    "import pandas as pd\n",
    "import numpy as np \n",
    "import os\n",
    "import matplotlib.pyplot as plt\n",
    "import statsmodels.api as sm\n",
    "from nltk.corpus import stopwords\n",
    "from datetime import datetime\n",
    "\n",
    "\n",
    "#Change working directory\n",
    "os.getcwd()\n"
   ]
  },
  {
   "cell_type": "markdown",
   "metadata": {},
   "source": [
    "# Import data and explore datasets\n",
    "\n",
    "## 1) Cardio activities\n",
    "\n",
    "## 2) MN temperature\n",
    "\n",
    "## 3) WI temperature"
   ]
  },
  {
   "cell_type": "code",
   "execution_count": 11,
   "metadata": {},
   "outputs": [],
   "source": [
    "def read_in_datasets(filename):\n",
    "    \n",
    "    '''\n",
    "    INPUT\n",
    "    filename - filename to input\n",
    "    \n",
    "    OUTPUT\n",
    "    dataframe\n",
    "    '''\n",
    "    \n",
    "    df=pd.read_csv(filename)\n",
    "    \n",
    "    print(df.info())\n",
    "    print('\\n',df.head())\n",
    "    \n",
    "    return df\n"
   ]
  },
  {
   "cell_type": "code",
   "execution_count": 12,
   "metadata": {},
   "outputs": [
    {
     "name": "stdout",
     "output_type": "stream",
     "text": [
      "<class 'pandas.core.frame.DataFrame'>\n",
      "RangeIndex: 437 entries, 0 to 436\n",
      "Data columns (total 14 columns):\n",
      " #   Column                    Non-Null Count  Dtype  \n",
      "---  ------                    --------------  -----  \n",
      " 0   Activity Id               437 non-null    object \n",
      " 1   Date                      437 non-null    object \n",
      " 2   Type                      437 non-null    object \n",
      " 3   Route Name                1 non-null      object \n",
      " 4   Distance (mi)             437 non-null    float64\n",
      " 5   Duration                  437 non-null    object \n",
      " 6   Average Pace              437 non-null    object \n",
      " 7   Average Speed (mph)       437 non-null    float64\n",
      " 8   Calories Burned           437 non-null    float64\n",
      " 9   Climb (ft)                437 non-null    int64  \n",
      " 10  Average Heart Rate (bpm)  33 non-null     float64\n",
      " 11  Friend's Tagged           2 non-null      object \n",
      " 12  Notes                     97 non-null     object \n",
      " 13  GPX File                  421 non-null    object \n",
      "dtypes: float64(4), int64(1), object(9)\n",
      "memory usage: 47.9+ KB\n",
      "None\n",
      "\n",
      "                             Activity Id                 Date     Type  \\\n",
      "0  3edb5002-8708-45cc-be8d-646750a11168  2022-02-20 10:42:50  Running   \n",
      "1  9b204540-e38a-47bb-98eb-82e3b0a803e0  2022-02-09 17:29:11  Running   \n",
      "2  5845e9f7-4aec-4e56-af68-b146218ee374  2021-12-24 11:14:55  Running   \n",
      "3  aff65380-4f37-4127-b910-899c3e5df02a  2021-12-02 15:48:56  Running   \n",
      "4  b0951cd3-2c28-4413-aaf2-bcb8cf4b8a47  2021-11-25 13:41:39  Running   \n",
      "\n",
      "  Route Name  Distance (mi) Duration Average Pace  Average Speed (mph)  \\\n",
      "0        NaN           2.02    18:22         9:06                 6.59   \n",
      "1        NaN           1.43    13:58         9:45                 6.15   \n",
      "2        NaN           3.05    25:25         8:20                 7.21   \n",
      "3        NaN           3.12    25:40         8:13                 7.30   \n",
      "4        NaN           3.10    24:11         7:48                 7.69   \n",
      "\n",
      "   Calories Burned  Climb (ft)  Average Heart Rate (bpm) Friend's Tagged  \\\n",
      "0            210.0          89                       NaN             NaN   \n",
      "1            149.0          47                       NaN             NaN   \n",
      "2            320.0         113                       NaN             NaN   \n",
      "3            331.0         171                       NaN             NaN   \n",
      "4            328.0         148                       NaN             NaN   \n",
      "\n",
      "  Notes               GPX File  \n",
      "0   NaN  2022-02-20-104250.gpx  \n",
      "1   NaN  2022-02-09-172911.gpx  \n",
      "2   NaN  2021-12-24-111455.gpx  \n",
      "3   NaN  2021-12-02-154856.gpx  \n",
      "4   NaN  2021-11-25-134139.gpx  \n"
     ]
    }
   ],
   "source": [
    "# 1) Cardio activities\n",
    "\n",
    "cardio=read_in_datasets('.\\data\\cardioActivities.csv')"
   ]
  },
  {
   "cell_type": "code",
   "execution_count": 13,
   "metadata": {},
   "outputs": [
    {
     "name": "stdout",
     "output_type": "stream",
     "text": [
      "<class 'pandas.core.frame.DataFrame'>\n",
      "RangeIndex: 4436 entries, 0 to 4435\n",
      "Data columns (total 6 columns):\n",
      " #   Column                           Non-Null Count  Dtype  \n",
      "---  ------                           --------------  -----  \n",
      " 0   Date                             4436 non-null   object \n",
      " 1   Maximum Temperature degrees (F)  4436 non-null   float64\n",
      " 2   Minimum Temperature degrees (F)  4436 non-null   float64\n",
      " 3   Precipitation (inches)           4436 non-null   object \n",
      " 4   Snow (inches)                    4436 non-null   object \n",
      " 5   Snow Depth (inches)              4436 non-null   object \n",
      "dtypes: float64(2), object(4)\n",
      "memory usage: 208.1+ KB\n",
      "None\n",
      "\n",
      "          Date  Maximum Temperature degrees (F)  \\\n",
      "0  2010-01-01                              6.0   \n",
      "1  2010-01-02                              1.0   \n",
      "2  2010-01-03                              7.0   \n",
      "3  2010-01-04                              7.0   \n",
      "4  2010-01-05                             10.0   \n",
      "\n",
      "   Minimum Temperature degrees (F) Precipitation (inches) Snow (inches)  \\\n",
      "0                             -9.0                      T             T   \n",
      "1                            -15.0                   0.00          0.00   \n",
      "2                            -14.0                   0.00          0.00   \n",
      "3                            -10.0                   0.00          0.00   \n",
      "4                             -9.0                   0.00          0.00   \n",
      "\n",
      "  Snow Depth (inches)  \n",
      "0                9.00  \n",
      "1                9.00  \n",
      "2                9.00  \n",
      "3                9.00  \n",
      "4                9.00  \n",
      "\n",
      "Oldest date is: 2010-01-01\n",
      "Newest date is: 2022-02-22\n"
     ]
    }
   ],
   "source": [
    "# 2) MN temperature\n",
    "temp_mn=read_in_datasets('.\\data\\minneapolis_st_paul_weather_data.csv')\n",
    "\n",
    "print('\\nOldest date is: '+temp_mn['Date'].min())\n",
    "print('Newest date is: '+temp_mn['Date'].max())"
   ]
  },
  {
   "cell_type": "code",
   "execution_count": 14,
   "metadata": {},
   "outputs": [
    {
     "name": "stdout",
     "output_type": "stream",
     "text": [
      "<class 'pandas.core.frame.DataFrame'>\n",
      "RangeIndex: 55151 entries, 0 to 55150\n",
      "Data columns (total 3 columns):\n",
      " #   Column                 Non-Null Count  Dtype  \n",
      "---  ------                 --------------  -----  \n",
      " 0   sampledate             55151 non-null  object \n",
      " 1   year                   55151 non-null  int64  \n",
      " 2   ave_air_temp_adjusted  55151 non-null  float64\n",
      "dtypes: float64(1), int64(1), object(1)\n",
      "memory usage: 1.3+ MB\n",
      "None\n",
      "\n",
      "    sampledate  year  ave_air_temp_adjusted\n",
      "0  1870-06-05  1870                   20.0\n",
      "1  1870-06-06  1870                   18.3\n",
      "2  1870-06-07  1870                   17.5\n",
      "3  1870-06-09  1870                   13.3\n",
      "4  1870-06-10  1870                   13.9\n",
      "\n",
      "Oldest date is: 1869-01-01\n",
      "Newest date is: 2019-12-31\n"
     ]
    }
   ],
   "source": [
    "# 3) WI temperature\n",
    "temp_wi=read_in_datasets('.\\data\\madison_wi_temp.csv')\n",
    "\n",
    "print('\\nOldest date is: '+temp_wi['sampledate'].min())\n",
    "print('Newest date is: '+temp_wi['sampledate'].max())"
   ]
  },
  {
   "cell_type": "markdown",
   "metadata": {},
   "source": [
    "# Data understanding and preparation/cleaning steps\n",
    "\n",
    "## Cardio activities\n",
    "- GPX File is just a string and provides no value\n",
    "- Though average heart rate is missing from 92% of the data, keep it to validate the measurements \n",
    "- The Walking, Hiking, and Rowing activities combined take up less than 2% of the data, so focus just on Running and Cycling\n",
    "- Extract the month and year from the date and the time of day (am/pm) from the time\n",
    "- Remove anything less than 1 mile, there are several times I mention cool down in the notes and these short distances should really have been recorded as Walking\n",
    "- To break activities down over time, lets add month, year, and season\n",
    "- Delete columns with 99% or more of missing data\n",
    "\n",
    "\n",
    "## MN weather\n",
    "- The MN weather dataframe has precipitation columns that are not needed and will be dropped.  \n",
    "- The temperature range is from 2010-2022 which covers the dates where the activities occured in MN (2011-2012 and 2017 and later).  \n",
    "- Additionally, the date is an object and is in ISO 8601 format (YYYY-MM-DD). \n",
    "- Finally, the assumption is that the run was likely done during the maximum temperature of the day\n",
    "\n",
    "## WI weather\n",
    "- The WI weather has a year column that is redundant with the date column.  \n",
    "- Similarly to the MN weather, the dates are in ISO 8601 format.  \n",
    "- To be consistent with the MN weather, change the sampledate column to Date.  \n",
    "- In contrast to the MN weather data, the temperature readings go back as far as 1869.  However, joining the weather to the cardio activities will remove most of the extra data.  \n",
    "- Finally, need to convert to degrees Fahrenheit to be consistent with the MN weather.\n",
    "\n",
    "\n"
   ]
  },
  {
   "cell_type": "code",
   "execution_count": 15,
   "metadata": {},
   "outputs": [
    {
     "name": "stdout",
     "output_type": "stream",
     "text": [
      "Columns removed due to excess missing values:\n",
      "['Route Name', \"Friend's Tagged\"]\n",
      "\n",
      "Activity type percentage\n",
      "Running    74.8\n",
      "Cycling    23.6\n",
      "Walking     1.1\n",
      "Hiking      0.2\n",
      "Rowing      0.2\n",
      "Name: Type, dtype: float64\n"
     ]
    }
   ],
   "source": [
    "# Cardio activities preparation\n",
    "\n",
    "# Drop columns that had more than the threshold percent of missing values\n",
    "threshold=98\n",
    "\n",
    "mis=pd.DataFrame(round(cardio.isna().sum()/len(cardio)*100,1).reset_index())\n",
    "mis.columns=['name','pct']\n",
    "\n",
    "too_many_nans=mis.loc[mis['pct']>=threshold,'name'].to_list()\n",
    "cardio.drop(columns=too_many_nans,inplace=True)\n",
    "\n",
    "print('Columns removed due to excess missing values:')\n",
    "print(too_many_nans)\n",
    "\n",
    "# Drop GPX File column\n",
    "cardio.drop(columns=['GPX File'],inplace=True)\n",
    "\n",
    "# Dates and time of day\n",
    "cardio['datetime']=pd.to_datetime(cardio['Date'])\n",
    "cardio['Date']=pd.to_datetime(cardio['datetime'].dt.date)\n",
    "cardio['time']=cardio['datetime'].dt.time\n",
    "cardio.loc[cardio['datetime'].dt.hour<12,'am_pm']='am'\n",
    "cardio.loc[cardio['am_pm'].isnull(),'am_pm']='pm'\n",
    "\n",
    "# Keep Running and Cycling \n",
    "print('\\nActivity type percentage')\n",
    "print(round(cardio['Type'].value_counts(normalize=True)*100,1))\n",
    "\n",
    "cardio=cardio.loc[cardio['Type'].isin(['Running','Cycling']).copy()]\n",
    "\n",
    "# Removing short distances\n",
    "cardio=cardio.loc[cardio['Distance (mi)']>1]\n",
    "\n",
    "# Adding month, year, and season\n",
    "cardio['month']=cardio['Date'].dt.month\n",
    "cardio['year']=cardio['Date'].dt.year\n",
    "cardio['month_year']=cardio['year'].astype(str)+ '_' + cardio['month'].astype(str)+'_1'\n",
    "cardio['month_year']=pd.to_datetime(cardio['month_year'],format='%Y_%m_%d')\n",
    "\n",
    "\n",
    "cardio['season']=''\n",
    "cardio.loc[cardio['month']<=3,'season']='winter'\n",
    "cardio.loc[(cardio['month']>3) & (cardio['month']<=6),'season']='spring'\n",
    "cardio.loc[(cardio['month']>6) & (cardio['month']<=9),'season']='summer'\n",
    "cardio.loc[cardio['month']>9,'season']='fall'"
   ]
  },
  {
   "cell_type": "code",
   "execution_count": 16,
   "metadata": {},
   "outputs": [
    {
     "data": {
      "text/html": [
       "<div>\n",
       "<style scoped>\n",
       "    .dataframe tbody tr th:only-of-type {\n",
       "        vertical-align: middle;\n",
       "    }\n",
       "\n",
       "    .dataframe tbody tr th {\n",
       "        vertical-align: top;\n",
       "    }\n",
       "\n",
       "    .dataframe thead th {\n",
       "        text-align: right;\n",
       "    }\n",
       "</style>\n",
       "<table border=\"1\" class=\"dataframe\">\n",
       "  <thead>\n",
       "    <tr style=\"text-align: right;\">\n",
       "      <th></th>\n",
       "      <th>Date</th>\n",
       "      <th>T_mn</th>\n",
       "    </tr>\n",
       "  </thead>\n",
       "  <tbody>\n",
       "    <tr>\n",
       "      <th>0</th>\n",
       "      <td>2010-01-01</td>\n",
       "      <td>6.0</td>\n",
       "    </tr>\n",
       "    <tr>\n",
       "      <th>1</th>\n",
       "      <td>2010-01-02</td>\n",
       "      <td>1.0</td>\n",
       "    </tr>\n",
       "    <tr>\n",
       "      <th>2</th>\n",
       "      <td>2010-01-03</td>\n",
       "      <td>7.0</td>\n",
       "    </tr>\n",
       "    <tr>\n",
       "      <th>3</th>\n",
       "      <td>2010-01-04</td>\n",
       "      <td>7.0</td>\n",
       "    </tr>\n",
       "    <tr>\n",
       "      <th>4</th>\n",
       "      <td>2010-01-05</td>\n",
       "      <td>10.0</td>\n",
       "    </tr>\n",
       "  </tbody>\n",
       "</table>\n",
       "</div>"
      ],
      "text/plain": [
       "        Date  T_mn\n",
       "0 2010-01-01   6.0\n",
       "1 2010-01-02   1.0\n",
       "2 2010-01-03   7.0\n",
       "3 2010-01-04   7.0\n",
       "4 2010-01-05  10.0"
      ]
     },
     "execution_count": 16,
     "metadata": {},
     "output_type": "execute_result"
    }
   ],
   "source": [
    "# MN temperature preparation\n",
    "\n",
    "# Convert to numeric\n",
    "for col in ['Maximum Temperature degrees (F)',\n",
    "            'Minimum Temperature degrees (F)']:\n",
    "    temp_mn[col]=pd.to_numeric(temp_mn[col],errors='coerce')\n",
    "    \n",
    "# Rename column so the temperature is associated with the MN location\n",
    "temp_mn.rename(columns={'Maximum Temperature degrees (F)':'T_mn'},inplace=True)\n",
    "\n",
    "# Remove redundant columns\n",
    "temp_mn=temp_mn[['Date','T_mn']].copy()\n",
    "\n",
    "# Convert the date to a datetime \n",
    "temp_mn['Date']=pd.to_datetime(temp_mn['Date'])\n",
    "\n",
    "temp_mn.head()"
   ]
  },
  {
   "cell_type": "code",
   "execution_count": 17,
   "metadata": {},
   "outputs": [
    {
     "data": {
      "text/html": [
       "<div>\n",
       "<style scoped>\n",
       "    .dataframe tbody tr th:only-of-type {\n",
       "        vertical-align: middle;\n",
       "    }\n",
       "\n",
       "    .dataframe tbody tr th {\n",
       "        vertical-align: top;\n",
       "    }\n",
       "\n",
       "    .dataframe thead th {\n",
       "        text-align: right;\n",
       "    }\n",
       "</style>\n",
       "<table border=\"1\" class=\"dataframe\">\n",
       "  <thead>\n",
       "    <tr style=\"text-align: right;\">\n",
       "      <th></th>\n",
       "      <th>Date</th>\n",
       "      <th>T_wi</th>\n",
       "    </tr>\n",
       "  </thead>\n",
       "  <tbody>\n",
       "    <tr>\n",
       "      <th>0</th>\n",
       "      <td>1870-06-05</td>\n",
       "      <td>68.0</td>\n",
       "    </tr>\n",
       "    <tr>\n",
       "      <th>1</th>\n",
       "      <td>1870-06-06</td>\n",
       "      <td>65.0</td>\n",
       "    </tr>\n",
       "    <tr>\n",
       "      <th>2</th>\n",
       "      <td>1870-06-07</td>\n",
       "      <td>64.0</td>\n",
       "    </tr>\n",
       "    <tr>\n",
       "      <th>3</th>\n",
       "      <td>1870-06-09</td>\n",
       "      <td>56.0</td>\n",
       "    </tr>\n",
       "    <tr>\n",
       "      <th>4</th>\n",
       "      <td>1870-06-10</td>\n",
       "      <td>57.0</td>\n",
       "    </tr>\n",
       "  </tbody>\n",
       "</table>\n",
       "</div>"
      ],
      "text/plain": [
       "        Date  T_wi\n",
       "0 1870-06-05  68.0\n",
       "1 1870-06-06  65.0\n",
       "2 1870-06-07  64.0\n",
       "3 1870-06-09  56.0\n",
       "4 1870-06-10  57.0"
      ]
     },
     "execution_count": 17,
     "metadata": {},
     "output_type": "execute_result"
    }
   ],
   "source": [
    "# WI temperaature preparation\n",
    "\n",
    "#Convert to degrees F\n",
    "temp_wi=temp_wi.assign(T_wi=lambda x: round(x.ave_air_temp_adjusted*9/5+32,0))\n",
    "\n",
    "# Remove redundant columns\n",
    "temp_wi.drop(columns=['ave_air_temp_adjusted','year'],inplace=True)\n",
    "\n",
    "# Rename column so the date is the same as the MN temp dataframe\n",
    "temp_wi.rename(columns={'sampledate':'Date'},inplace=True)\n",
    "\n",
    "# Convert the date to a datetime \n",
    "temp_wi['Date']=pd.to_datetime(temp_wi['Date'])\n",
    "\n",
    "temp_wi.head()"
   ]
  },
  {
   "cell_type": "markdown",
   "metadata": {},
   "source": [
    "# Data preparation - joins\n",
    "The purpose of the join is to obtain the approximate temperature for each actvitiy.  The analysis only needs temperatures on days with activities, so a left join to the cardio activities is warranted.  \n",
    "\n",
    "The temperature column can be created using a combination of the MN and WI temperatures.  Between Sept. 2012 - Aug. 2017, the activities were mainly in Madison, WI.  All other activities before and after that timeframe should be from Minneapolis/St. Paul, MN data."
   ]
  },
  {
   "cell_type": "code",
   "execution_count": 18,
   "metadata": {},
   "outputs": [],
   "source": [
    "# Join temperature data to the activity dataset \n",
    "cardio=pd.merge(cardio,temp_mn,how='left',on=['Date'],validate='many_to_one')\n",
    "cardio=pd.merge(cardio,temp_wi,how='left',on=['Date'],validate='many_to_one')"
   ]
  },
  {
   "cell_type": "code",
   "execution_count": 19,
   "metadata": {},
   "outputs": [
    {
     "name": "stdout",
     "output_type": "stream",
     "text": [
      "Index(['Activity Id', 'Date', 'Type', 'Distance (mi)', 'Duration',\n",
      "       'Average Pace', 'Average Speed (mph)', 'Calories Burned', 'Climb (ft)',\n",
      "       'Average Heart Rate (bpm)', 'Notes', 'datetime', 'time', 'am_pm',\n",
      "       'month', 'year', 'month_year', 'season', 'Temp'],\n",
      "      dtype='object')\n",
      "\n",
      "Are there any null temperature values?\n",
      "False\n"
     ]
    }
   ],
   "source": [
    "# Convert the location-based temperature columns to a single temperature column\n",
    "def get_temp(date_col,mn_temp,wi_temp):\n",
    "    \n",
    "    '''\n",
    "    INPUT\n",
    "    date_col - Column name containing the date\n",
    "    mn_temp  - Column name containing the MN temperature \n",
    "    wi_temp  - Column name containing the WI temperature\n",
    "    \n",
    "    OUTPUT\n",
    "    temp - A single value for temperature\n",
    "    \n",
    "    Perform to obtain a single column of temperature for later analysis\n",
    "    '''\n",
    "    \n",
    "    if np.isnan(mn_temp)==True and np.isnan(wi_temp)==True:\n",
    "        \n",
    "        temp=np.nan\n",
    "        \n",
    "    else:\n",
    "    \n",
    "        if datetime(2012,9,1)<date_col<datetime(2017,8,15):\n",
    "            temp=wi_temp\n",
    "        else:\n",
    "            temp=mn_temp\n",
    "        \n",
    "    return temp\n",
    "\n",
    "cardio['Temp']=cardio.apply(lambda row: get_temp(row['Date'],row['T_mn'],row['T_wi']),axis=1)\n",
    "\n",
    "# Now we can remove the other temperature columns\n",
    "cardio.drop(columns=['T_mn','T_wi'],inplace=True)\n",
    "\n",
    "# Lets look at the results\n",
    "print(cardio.columns)\n",
    "\n",
    "print('\\nAre there any null temperature values?')\n",
    "print(cardio['Temp'].isna().any())"
   ]
  },
  {
   "cell_type": "markdown",
   "metadata": {},
   "source": [
    "# Data join validation result\n",
    "In several of the notes, I made brief comments about the heat.  Pull keywords from the notes column associated with the heat and verify the temperature matches the comment.\n",
    "\n",
    "There are several times that the words hot, humid, and heat pop up in the Notes.  Subset the activities on the Notes that contain those keywords and lets look at the temperature."
   ]
  },
  {
   "cell_type": "code",
   "execution_count": 20,
   "metadata": {},
   "outputs": [
    {
     "name": "stdout",
     "output_type": "stream",
     "text": [
      "Word count in Notes \n",
      "            word  count\n",
      "0       outside     17\n",
      "1          felt     16\n",
      "2          left     15\n",
      "3   compressors     13\n",
      "4         first     11\n",
      "5          quad     10\n",
      "6           day      7\n",
      "7          days      7\n",
      "8      ultimate      7\n",
      "9             ,      7\n",
      "10         ride      7\n",
      "11            j      6\n",
      "12          hot      6\n",
      "13         bike      6\n",
      "14       little      6\n",
      "15           j,      6\n",
      "16         mile      5\n",
      "17          ran      5\n",
      "18          run      5\n",
      "19            .      5\n",
      "20         good      5\n",
      "21        humid      5\n",
      "22        right      5\n",
      "23         legs      4\n",
      "24        chest      4\n"
     ]
    }
   ],
   "source": [
    "# Isolate notes\n",
    "notes=cardio.loc[cardio['Notes'].notnull(),['Notes']]\n",
    "\n",
    "# Remove stop words\n",
    "stop_words=stopwords.words('english')\n",
    "\n",
    "def remove_stop_words(text):\n",
    "    '''\n",
    "    INPUT\n",
    "    text - a string \n",
    "    \n",
    "    OUTPUT\n",
    "    text - a list containing all the words with stop words removed\n",
    "    \n",
    "    The function removes stop words from the note\n",
    "    '''\n",
    "    \n",
    "    # Removing the stop words and applying lower case\n",
    "    text = [word.lower() for word in text.split() if word.lower() not in stop_words]\n",
    "    \n",
    "    \n",
    "    return \" \".join(text)\n",
    "\n",
    "notes['Notes_no_stop']=notes['Notes'].apply(remove_stop_words)\n",
    "\n",
    "word_list=' '.join([row for row in notes['Notes_no_stop']]).split()\n",
    "\n",
    "word_df=pd.DataFrame(word_list,columns=['words'])\n",
    "\n",
    "word_df_counts=pd.DataFrame(word_df['words'].value_counts().reset_index())\n",
    "word_df_counts=word_df_counts.loc[word_df_counts['words']>1]\n",
    "word_df_counts.columns=['word','count']\n",
    "\n",
    "print('Word count in Notes','\\n',word_df_counts.head(25))"
   ]
  },
  {
   "cell_type": "code",
   "execution_count": 21,
   "metadata": {},
   "outputs": [
    {
     "name": "stdout",
     "output_type": "stream",
     "text": [
      "          Date  Temp\n",
      "145 2019-09-30  86.0\n",
      "101 2020-07-07  88.0\n",
      "90  2020-08-14  85.0\n",
      "88  2020-08-17  78.0\n",
      "85  2020-08-25  90.0\n",
      "34  2021-05-24  87.0\n",
      "32  2021-06-05  99.0\n",
      "21  2021-07-18  88.0\n"
     ]
    }
   ],
   "source": [
    "hot_words=['hot','humid','heat']\n",
    "\n",
    "high_temps=cardio.loc[cardio['Notes'].str.contains('|'.join(hot_words),na=False),['Date','Temp']]\n",
    "\n",
    "print(high_temps.sort_values(by='Date'))"
   ]
  },
  {
   "cell_type": "markdown",
   "metadata": {},
   "source": [
    "Result of join validation: Yes, these look like hot temperatures (for the Midwest that is!)."
   ]
  },
  {
   "cell_type": "markdown",
   "metadata": {},
   "source": [
    "# Summary statistics and additional data preparation of running and biking data\n",
    "- Separate running from biking\n",
    "- Look at the summary statistics for both\n"
   ]
  },
  {
   "cell_type": "code",
   "execution_count": 22,
   "metadata": {},
   "outputs": [
    {
     "name": "stdout",
     "output_type": "stream",
     "text": [
      "Running summary statistics\n",
      "       Distance (mi)  Average Speed (mph)  Calories Burned   Climb (ft)  \\\n",
      "count     299.000000           299.000000       299.000000   299.000000   \n",
      "mean        3.047559             6.975017       317.122637   169.167224   \n",
      "std         1.077003             0.853619       115.583947   214.471753   \n",
      "min         1.020000             3.850000       101.000000     0.000000   \n",
      "25%         2.300000             6.515000       239.000000    68.500000   \n",
      "50%         3.050000             7.080000       318.000000   105.000000   \n",
      "75%         3.510000             7.575000       369.500000   177.500000   \n",
      "max         8.150000            10.280000       845.000000  1571.000000   \n",
      "\n",
      "       Average Heart Rate (bpm)       month         year        Temp  \n",
      "count                 24.000000  299.000000   299.000000  299.000000  \n",
      "mean                 164.750000    7.317726  2017.287625   65.384615  \n",
      "std                   16.616519    2.426653     2.841013   14.327283  \n",
      "min                  112.000000    1.000000  2011.000000   24.000000  \n",
      "25%                  153.750000    5.000000  2015.000000   56.000000  \n",
      "50%                  171.000000    8.000000  2017.000000   66.000000  \n",
      "75%                  176.000000    9.000000  2020.000000   75.500000  \n",
      "max                  185.000000   12.000000  2022.000000   99.000000  \n"
     ]
    }
   ],
   "source": [
    "# Running summary statistics\n",
    "run=cardio.loc[cardio['Type']=='Running'].copy()\n",
    "\n",
    "run_stats=run.describe()\n",
    "\n",
    "print('Running summary statistics')\n",
    "print(run_stats)\n"
   ]
  },
  {
   "cell_type": "markdown",
   "metadata": {},
   "source": [
    "### Running data summary statistics and findings\n",
    "- I have not run more than 10 miles when recording, so the max distance of 8.15 miles checks out.\n",
    "- A max average speed of 10 mph makes sense.  For us non-Olympians, try sustaining that pace on a treadmill!\n",
    "- Maximum heart rate is 220 - your age [Source](https://www.polar.com/blog/calculate-maximum-heart-rate-running/).\n",
    "    - This was over 10 years, so the absolute maximum should not be higher than 190.  The max is 185 bpm, so that checks out!\n",
    "- I can handle the cold, but my cutoff is usually around 20 degrees F.  A min of 24 F checks out!"
   ]
  },
  {
   "cell_type": "code",
   "execution_count": 23,
   "metadata": {},
   "outputs": [
    {
     "name": "stdout",
     "output_type": "stream",
     "text": [
      "Biking summary statistics\n",
      "       Distance (mi)  Average Speed (mph)  Calories Burned   Climb (ft)  \\\n",
      "count     103.000000           103.000000       103.000000   103.000000   \n",
      "mean       12.142427            13.634951       416.091679   424.873786   \n",
      "std         6.101622             1.555393       227.219370   313.233193   \n",
      "min         1.740000             9.060000        58.000000     0.000000   \n",
      "25%         8.315000            12.725000       271.000000   242.000000   \n",
      "50%        12.520000            13.860000       416.000000   373.000000   \n",
      "75%        15.815000            14.585000       528.000000   545.000000   \n",
      "max        45.700000            17.990000      1823.989992  2250.000000   \n",
      "\n",
      "       Average Heart Rate (bpm)       month         year        Temp  \n",
      "count                  9.000000  103.000000   103.000000  103.000000  \n",
      "mean                 134.111111    6.854369  2017.300971   74.330097  \n",
      "std                   17.758410    1.497762     2.789458   10.058055  \n",
      "min                   98.000000    4.000000  2012.000000   45.000000  \n",
      "25%                  132.000000    6.000000  2015.000000   68.000000  \n",
      "50%                  138.000000    7.000000  2017.000000   74.000000  \n",
      "75%                  145.000000    8.000000  2020.000000   82.000000  \n",
      "max                  152.000000   10.000000  2021.000000   97.000000  \n"
     ]
    }
   ],
   "source": [
    "# Biking summary statistics\n",
    "bike=cardio.loc[cardio['Type']=='Cycling'].copy()\n",
    "\n",
    "bike_stats=bike.describe()\n",
    "\n",
    "print('Biking summary statistics')\n",
    "print(bike_stats)"
   ]
  },
  {
   "cell_type": "markdown",
   "metadata": {},
   "source": [
    "### Biking data summary statistics and findings\n",
    "- I have not bikied more than 50 miles when recording, so the max distance of 45.7 miles checks out.\n",
    "- The maximum heart rate of 152 bpm makes sense since I'm always a little less winded after biking than running\n",
    "- The temperature range between 45 and 97 makes sense, since my cutoff for biking is around 40 degrees F.  "
   ]
  },
  {
   "cell_type": "markdown",
   "metadata": {},
   "source": [
    "# Analysis and results\n",
    "\n",
    "## Was there improvement over time?\n",
    "- Often these can be answered in many ways.  Let's look at several metrics over time\n",
    "\n",
    "## Did my 5k times improve?\n",
    "\n",
    "## What affect did the new bike have?\n",
    "\n",
    "## What affect does time of year have on running performance? \n",
    "- This directly coincides with temperature"
   ]
  },
  {
   "cell_type": "code",
   "execution_count": 24,
   "metadata": {},
   "outputs": [
    {
     "data": {
      "image/png": "[encoded data removed]",
      "text/plain": [
       "<Figure size 432x288 with 2 Axes>"
      ]
     },
     "metadata": {
      "needs_background": "light"
     },
     "output_type": "display_data"
    },
    {
     "data": {
      "image/png": "[encoded data removed]",
      "text/plain": [
       "<Figure size 432x288 with 2 Axes>"
      ]
     },
     "metadata": {
      "needs_background": "light"
     },
     "output_type": "display_data"
    }
   ],
   "source": [
    "# Was there improvment over time?  \n",
    "#Distance over time for running and biking\n",
    "fig, ax = plt.subplots(2,1,sharex=True)\n",
    "fig.tight_layout(pad=3)\n",
    "\n",
    "\n",
    "ax[0].plot(run['Date'],run['Distance (mi)'],marker='o',linestyle='none',markersize=3,color='green')\n",
    "ax[0].set_title('Running distance over time')\n",
    "ax[0].set_ylabel('Distance (mi)')\n",
    "\n",
    "ax[1].plot(bike['Date'],bike['Distance (mi)'],marker='o',linestyle='none',markersize=3)\n",
    "ax[1].set_title('Biking distance over time')\n",
    "ax[1].set_ylabel('Distance (mi)')\n",
    "ax[1].set_xlabel('Date')\n",
    "\n",
    "plt.show()\n",
    "\n",
    "\n",
    "#Average speed over time for running and biking\n",
    "fig, ax = plt.subplots(2,1,sharex=True)\n",
    "fig.tight_layout(pad=3)\n",
    "\n",
    "\n",
    "ax[0].plot(run['Date'],run['Average Speed (mph)'],marker='o',linestyle='none',markersize=3,color='green')\n",
    "ax[0].set_title('Average running speed over time')\n",
    "ax[0].set_ylabel('Speed (mph)')\n",
    "\n",
    "ax[1].plot(bike['Date'],bike['Average Speed (mph)'],marker='o',linestyle='none',markersize=3)\n",
    "ax[1].set_title('Average biking speed over Time')\n",
    "ax[1].set_ylabel('Speed (mph)')\n",
    "ax[1].set_xlabel('Date')\n",
    "\n",
    "plt.show()\n"
   ]
  },
  {
   "cell_type": "markdown",
   "metadata": {},
   "source": [
    "\n",
    "### Biking results\n",
    "For biking, there isn't a strong trend over time, but there is a more consistent higher average speed over time in 2020.  This coincided with the pandemic and more biking activities for the year similar to running.\n",
    "### Running results\n",
    "For running, there isn't a strong trend over time, but there are larger max distances in 2020.  This makes sense since I started running more often due to the pandemic.  Let's verify this with a count of runs per year.  \n"
   ]
  },
  {
   "cell_type": "code",
   "execution_count": 25,
   "metadata": {},
   "outputs": [
    {
     "data": {
      "image/png": "[encoded data removed]",
      "text/plain": [
       "<Figure size 432x288 with 1 Axes>"
      ]
     },
     "metadata": {
      "needs_background": "light"
     },
     "output_type": "display_data"
    }
   ],
   "source": [
    "runs_by_year=run.groupby('year')['Date'].agg({'count'}).reset_index()\n",
    "\n",
    "runs_by_year.plot.bar(x='year',y='count',color='green')\n",
    "plt.title('Count of runs per year')\n",
    "plt.show()"
   ]
  },
  {
   "cell_type": "markdown",
   "metadata": {},
   "source": [
    "The increase in max distance over time is attributed to the increased overall fitness based on running more often.  The decrease in 2018 and 2019 makes sense because I started working full time in late 2017.  As expected, there was a drop in flexibility and subsequently the amount of time for runs.  This then changed with the pandemic as commute times were minimized, and more time was prioritized working out and going outside."
   ]
  },
  {
   "cell_type": "code",
   "execution_count": 26,
   "metadata": {},
   "outputs": [
    {
     "name": "stdout",
     "output_type": "stream",
     "text": [
      "   year Duration\n",
      "0  2012    26:00\n",
      "1  2013    22:21\n",
      "2  2014    22:13\n",
      "3  2015    23:33\n",
      "4  2016    25:32\n",
      "5  2018    26:02\n",
      "6  2019    26:15\n",
      "7  2020    22:33\n",
      "8  2021    23:52\n"
     ]
    }
   ],
   "source": [
    "# Did 5k times improve?\n",
    "\n",
    "# Subset for 5k distances\n",
    "fiveK=run.loc[(run['Distance (mi)']>3) & (run['Distance (mi)']<3.15)]\n",
    "\n",
    "#Look at my fastest 5ks each year\n",
    "fiveK_agg=fiveK.groupby(['year']).agg({'Duration':'min'}).reset_index()\n",
    "\n",
    "print(fiveK_agg)\n"
   ]
  },
  {
   "cell_type": "markdown",
   "metadata": {},
   "source": [
    "There isn't a clear trend of improving over time, however this trend matches the amount of runs per time.  In 2018-2019 when I first started working, I ran less, and my 5k times increased.  However, after the pandemic hit, I was able to run more and consequently was able to reduce my 5k times back to 2013-2014 levels.  I'd say maintaining the same 5k time in 2020-2021 compared to 2013-2014 when I was 6+ years younger is a win by itself.  "
   ]
  },
  {
   "cell_type": "code",
   "execution_count": 27,
   "metadata": {},
   "outputs": [
    {
     "name": "stdout",
     "output_type": "stream",
     "text": [
      "          Date\n",
      "109 2020-06-20\n"
     ]
    },
    {
     "data": {
      "image/png": "[encoded data removed]",
      "text/plain": [
       "<Figure size 432x288 with 1 Axes>"
      ]
     },
     "metadata": {
      "needs_background": "light"
     },
     "output_type": "display_data"
    }
   ],
   "source": [
    "# What effect did the new bike have?\n",
    "print(bike.loc[bike['Notes'].str.contains('new bike',na=False),['Date']])\n",
    "\n",
    "new_bike_affect=bike.loc[(bike['year']==2020) & (bike['Distance (mi)']>=10)]\n",
    "\n",
    "plt.plot(new_bike_affect['Date'],new_bike_affect['Average Speed (mph)'],marker='o',linestyle='none',markersize=5)\n",
    "plt.xlabel('Date')\n",
    "plt.xticks(rotation=45)\n",
    "plt.ylabel('Average Speed (mph)')\n",
    "plt.axvline(x = '2020-06-20', color = 'b')\n",
    "plt.show()\n"
   ]
  },
  {
   "cell_type": "code",
   "execution_count": 28,
   "metadata": {},
   "outputs": [
    {
     "name": "stdout",
     "output_type": "stream",
     "text": [
      "R2:  0.45\n"
     ]
    }
   ],
   "source": [
    "indep = new_bike_affect['month']\n",
    "dep = new_bike_affect['Average Speed (mph)']\n",
    "\n",
    "# OLS regression\n",
    "results = sm.OLS(dep,sm.add_constant(indep)).fit()\n",
    "\n",
    "print('R2: ', round(results.rsquared,2))"
   ]
  },
  {
   "cell_type": "markdown",
   "metadata": {},
   "source": [
    "Looking at the data above, there are some higher biking speeds and distances in 2020. Lets look at the average speed and distance within several months before and after I got the new, and slightly lighter,\" road bike that year.  Lets consider longer rides as well (at least 10 miles).  \n",
    "\n",
    "Luckily, I can obtain the first date I used the new bike thanks to one of my notes.\n",
    "\n",
    "This appears that there is a moderate correlation between the month and average speed based on when I got the new road bike.  Lets quantify that.\n",
    "\n",
    "The 0.45 is below the typical threshold of 0.5 for a moderate strength correlation, so the new bike had a minor affect on average speed overall.  "
   ]
  },
  {
   "cell_type": "code",
   "execution_count": 29,
   "metadata": {},
   "outputs": [
    {
     "name": "stdout",
     "output_type": "stream",
     "text": [
      "    temp_bin Average Speed (mph)        Distance (mi)\n",
      "                            mean    max           max\n",
      "0   (20, 30]            6.990000   7.69          5.45\n",
      "1   (30, 40]            6.755556   7.73          6.32\n",
      "2   (40, 50]            7.006250   8.11          5.31\n",
      "3   (50, 60]            7.117170   8.27          6.01\n",
      "4   (60, 70]            7.019383  10.28          8.15\n",
      "5   (70, 80]            6.976962   8.49          6.55\n",
      "6   (80, 90]            6.764687   7.99          7.46\n",
      "7  (90, 100]            6.451429   7.65          6.22\n",
      "\n",
      "    season Average Speed (mph)        Distance (mi)      \n",
      "                         mean    max           max count\n",
      "0    fall            7.040508   8.27          7.03    59\n",
      "1  spring            6.935000   8.40          6.55    90\n",
      "2  summer            6.974154  10.28          8.15   130\n",
      "3  winter            6.967500   8.11          5.31    20\n"
     ]
    }
   ],
   "source": [
    "# What effect does time of year have on running performance? \n",
    "\n",
    "#Bin the weather\n",
    "run['temp_bin']=pd.cut(run['Temp'],bins=[20, 30, 40, 50, 60, 70, 80, 90, 100])\n",
    "\n",
    "print(run.groupby('temp_bin').agg({'Average Speed (mph)':['mean','max'],\n",
    "                                   'Distance (mi)':['max']}).reset_index())\n",
    "\n",
    "# Break down by season\n",
    "\n",
    "print('\\n',run.groupby('season').agg({'Average Speed (mph)':['mean','max'],\n",
    "                                 'Distance (mi)':['max','count']}).reset_index())"
   ]
  },
  {
   "cell_type": "markdown",
   "metadata": {},
   "source": [
    "The metrics show the optimal temperature to run in is between 50-70 degrees, which matches with fall & summer being the seasons that show the higheste average speed and distance.  "
   ]
  },
  {
   "cell_type": "code",
   "execution_count": null,
   "metadata": {},
   "outputs": [],
   "source": []
  }
 ],
 "metadata": {
  "kernelspec": {
   "display_name": "Python 3",
   "language": "python",
   "name": "python3"
  },
  "language_info": {
   "codemirror_mode": {
    "name": "ipython",
    "version": 3
   },
   "file_extension": ".py",
   "mimetype": "text/x-python",
   "name": "python",
   "nbconvert_exporter": "python",
   "pygments_lexer": "ipython3",
   "version": "3.8.5"
  }
 },
 "nbformat": 4,
 "nbformat_minor": 4
}
